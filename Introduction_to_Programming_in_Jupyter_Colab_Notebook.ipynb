{
  "nbformat": 4,
  "nbformat_minor": 0,
  "metadata": {
    "colab": {
      "name": "Introduction to Programming in Jupyter/Colab Notebook.ipynb",
      "provenance": [],
      "collapsed_sections": [],
      "mount_file_id": "1pZnn7jiN2bHWcqOkyWZSjhQadbi59_kx",
      "authorship_tag": "ABX9TyMZ2B+U3aT78nPgj2Rs5IL3"
    },
    "kernelspec": {
      "name": "python3",
      "display_name": "Python 3"
    },
    "language_info": {
      "name": "python"
    }
  },
  "cells": [
    {
      "cell_type": "code",
      "metadata": {
        "id": "xVNTf6fYO7YJ"
      },
      "source": [
        "import os\n",
        "import pandas as pd\n",
        "import numpy as np"
      ],
      "execution_count": 1,
      "outputs": []
    },
    {
      "cell_type": "code",
      "metadata": {
        "colab": {
          "base_uri": "https://localhost:8080/"
        },
        "id": "2tRBZ6UbRtTT",
        "outputId": "77de8ea5-3295-47fc-d54e-30a43ad0fdc5"
      },
      "source": [
        "print(os.listdir())\n",
        "print('Hello')"
      ],
      "execution_count": 2,
      "outputs": [
        {
          "output_type": "stream",
          "text": [
            "['.config', 'drive', 'sample_data']\n",
            "Hello\n"
          ],
          "name": "stdout"
        }
      ]
    },
    {
      "cell_type": "code",
      "metadata": {
        "id": "kTXNPy8RRwti",
        "colab": {
          "base_uri": "https://localhost:8080/"
        },
        "outputId": "dfef4502-38e3-4310-d7e5-9c07010fcc6d"
      },
      "source": [
        "print('Blah')"
      ],
      "execution_count": 3,
      "outputs": [
        {
          "output_type": "stream",
          "text": [
            "Blah\n"
          ],
          "name": "stdout"
        }
      ]
    },
    {
      "cell_type": "code",
      "metadata": {
        "colab": {
          "base_uri": "https://localhost:8080/"
        },
        "id": "v-PhnmSCb4ZK",
        "outputId": "f49b7898-e72d-4707-c486-a490b1f62f34"
      },
      "source": [
        "printhello()"
      ],
      "execution_count": 6,
      "outputs": [
        {
          "output_type": "stream",
          "text": [
            "Hello\n"
          ],
          "name": "stdout"
        }
      ]
    },
    {
      "cell_type": "markdown",
      "metadata": {
        "id": "nRtVjo6ZdN9G"
      },
      "source": [
        "**Section 1**"
      ]
    },
    {
      "cell_type": "markdown",
      "metadata": {
        "id": "XyJronOtdUho"
      },
      "source": [
        "# Section 2"
      ]
    },
    {
      "cell_type": "markdown",
      "metadata": {
        "id": "UfQNmeOcdboY"
      },
      "source": [
        "# Section 10"
      ]
    },
    {
      "cell_type": "code",
      "metadata": {
        "id": "Y4DWDKvVbYNg"
      },
      "source": [
        "def printhello():\n",
        "  print('Hello')"
      ],
      "execution_count": 5,
      "outputs": []
    },
    {
      "cell_type": "code",
      "metadata": {
        "id": "oZekOOMCb8gp"
      },
      "source": [
        ""
      ],
      "execution_count": null,
      "outputs": []
    }
  ]
}