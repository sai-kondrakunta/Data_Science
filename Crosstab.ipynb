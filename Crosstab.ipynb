{
  "nbformat": 4,
  "nbformat_minor": 0,
  "metadata": {
    "colab": {
      "name": "Crosstab.ipynb",
      "provenance": [],
      "collapsed_sections": [],
      "toc_visible": true,
      "authorship_tag": "ABX9TyPUP9uVX0H4pEIM3XRs/+8L"
    },
    "kernelspec": {
      "name": "python3",
      "display_name": "Python 3"
    },
    "language_info": {
      "name": "python"
    }
  },
  "cells": [
    {
      "cell_type": "code",
      "metadata": {
        "id": "fRxS371VhOp-"
      },
      "source": [
        "import pandas as pd\n",
        "df = pd.read_excel('https://github.com/dayanandv/Data-Science/raw/main/dataset/survey.xls')\n",
        "df"
      ],
      "execution_count": null,
      "outputs": []
    },
    {
      "cell_type": "markdown",
      "metadata": {
        "id": "Sfsz3HUY6qhd"
      },
      "source": [
        "# CrossTab"
      ]
    },
    {
      "cell_type": "markdown",
      "metadata": {
        "id": "fVjpcqfU6ZuI"
      },
      "source": [
        "## Simple"
      ]
    },
    {
      "cell_type": "code",
      "metadata": {
        "id": "Z-5fSsDO6ZOL"
      },
      "source": [
        ""
      ],
      "execution_count": null,
      "outputs": []
    },
    {
      "cell_type": "code",
      "metadata": {
        "id": "RJ8eO_-R54r-"
      },
      "source": [
        ""
      ],
      "execution_count": null,
      "outputs": []
    },
    {
      "cell_type": "markdown",
      "metadata": {
        "id": "DLTmDAyw6dko"
      },
      "source": [
        "## With Margins"
      ]
    },
    {
      "cell_type": "code",
      "metadata": {
        "id": "GTwizSAQ6ir6"
      },
      "source": [
        ""
      ],
      "execution_count": null,
      "outputs": []
    },
    {
      "cell_type": "markdown",
      "metadata": {
        "id": "ZH13jjdD6wvA"
      },
      "source": [
        "## Multi-Index Column and Rows"
      ]
    },
    {
      "cell_type": "code",
      "metadata": {
        "id": "4O7Ut24a60Z1"
      },
      "source": [
        ""
      ],
      "execution_count": null,
      "outputs": []
    },
    {
      "cell_type": "markdown",
      "metadata": {
        "id": "_XULaxZj62Oq"
      },
      "source": [
        "## Normalize"
      ]
    },
    {
      "cell_type": "markdown",
      "metadata": {
        "id": "S_jlaCpf64Y0"
      },
      "source": [
        "## Aggregate function"
      ]
    },
    {
      "cell_type": "code",
      "metadata": {
        "id": "ufcWU_1D63Za"
      },
      "source": [
        ""
      ],
      "execution_count": null,
      "outputs": []
    },
    {
      "cell_type": "markdown",
      "metadata": {
        "id": "cQ5HJZIP7r9s"
      },
      "source": [
        "# Automotive dataset example"
      ]
    },
    {
      "cell_type": "markdown",
      "metadata": {
        "id": "_oBffT2m9g0W"
      },
      "source": [
        "Define the headers since the data does not have any"
      ]
    },
    {
      "cell_type": "code",
      "metadata": {
        "id": "e6mkT4oc8WQf"
      },
      "source": [
        "headers = [\"symboling\", \"normalized_losses\", \"make\", \"fuel_type\", \"aspiration\",\"num_doors\", \"body_style\", \"drive_wheels\", \n",
        "           \"engine_location\", \"wheel_base\", \"length\", \"width\", \"height\", \"curb_weight\", \"engine_type\", \"num_cylinders\", \n",
        "           \"engine_size\", \"fuel_system\", \"bore\", \"stroke\", \"compression_ratio\", \"horsepower\", \"peak_rpm\", \"city_mpg\", \n",
        "           \"highway_mpg\", \"price\"]"
      ],
      "execution_count": null,
      "outputs": []
    },
    {
      "cell_type": "markdown",
      "metadata": {
        "id": "Cvb3vXR89j5u"
      },
      "source": [
        "Read in the CSV file and convert \"?\" to NaN"
      ]
    },
    {
      "cell_type": "code",
      "metadata": {
        "id": "so59u6ge9a8Y"
      },
      "source": [
        "df_raw = pd.read_csv('https://archive.ics.uci.edu/ml/machine-learning-databases/autos/imports-85.data', header=None, names=headers, na_values=\"?\" )"
      ],
      "execution_count": null,
      "outputs": []
    },
    {
      "cell_type": "markdown",
      "metadata": {
        "id": "FkDO-SbI9qeN"
      },
      "source": [
        "Define a list of models that we want to review"
      ]
    },
    {
      "cell_type": "code",
      "metadata": {
        "id": "f1vg6hWm9dh5"
      },
      "source": [
        "models = [\"toyota\",\"nissan\",\"mazda\", \"honda\", \"mitsubishi\", \"subaru\", \"volkswagen\", \"volvo\"]"
      ],
      "execution_count": null,
      "outputs": []
    },
    {
      "cell_type": "markdown",
      "metadata": {
        "id": "hcEjQgLL9t-C"
      },
      "source": [
        "Create a copy of the data with only the top 8 manufacturers"
      ]
    },
    {
      "cell_type": "code",
      "metadata": {
        "id": "nbBRNjmc9w4L"
      },
      "source": [
        "df = df_raw[df_raw.make.isin(models)].copy()"
      ],
      "execution_count": null,
      "outputs": []
    },
    {
      "cell_type": "markdown",
      "metadata": {
        "id": "G2jFHPHC9xhI"
      },
      "source": [
        "CrossTab: make vs body_style"
      ]
    },
    {
      "cell_type": "code",
      "metadata": {
        "id": "lGjp9jIf932T"
      },
      "source": [
        "pd.crosstab(df.make, df.body_style)"
      ],
      "execution_count": null,
      "outputs": []
    },
    {
      "cell_type": "markdown",
      "metadata": {
        "id": "OAZnf5rQ95hn"
      },
      "source": [
        "Groupby"
      ]
    },
    {
      "cell_type": "code",
      "metadata": {
        "id": "ItIVYYEF96fI"
      },
      "source": [
        "df.groupby(['make', 'body_style'])['body_style'].count().unstack().fillna(0)"
      ],
      "execution_count": null,
      "outputs": []
    },
    {
      "cell_type": "markdown",
      "metadata": {
        "id": "8-QwPoLK-3SS"
      },
      "source": [
        "Pivot table"
      ]
    },
    {
      "cell_type": "code",
      "metadata": {
        "id": "Uerk10bV-5HC"
      },
      "source": [
        "df.pivot_table(index='make' , columns= 'body_style' , aggfunc={ 'body_style' :len}, fill_value=0)"
      ],
      "execution_count": null,
      "outputs": []
    },
    {
      "cell_type": "markdown",
      "metadata": {
        "id": "nU6fWoTe_Sny"
      },
      "source": [
        "Crosstab: make vs num_doors"
      ]
    },
    {
      "cell_type": "code",
      "metadata": {
        "id": "iGxcT_uT_D7a"
      },
      "source": [
        "pd.crosstab(df.make, df.num_doors, margins=True, margins_name=\"Total\")"
      ],
      "execution_count": null,
      "outputs": []
    },
    {
      "cell_type": "markdown",
      "metadata": {
        "id": "CwE5foIh_u64"
      },
      "source": [
        "Crosstab: Multi-index"
      ]
    },
    {
      "cell_type": "code",
      "metadata": {
        "id": "2_hmj5Nw_fCh"
      },
      "source": [
        "pd.crosstab(df.make, [df.body_style, df.drive_wheels])"
      ],
      "execution_count": null,
      "outputs": []
    },
    {
      "cell_type": "markdown",
      "metadata": {
        "id": "hUVukVZYAHfQ"
      },
      "source": [
        "Crosstab: Normalize"
      ]
    },
    {
      "cell_type": "code",
      "metadata": {
        "id": "Iqa86MIoAEbV"
      },
      "source": [
        "pd.crosstab([df.make, df.num_doors], [df.body_style, df.drive_wheels], rownames=['Auto Manufacturer', \"Doors\"], \n",
        "            colnames=['Body Style', \"Drive Type\"], dropna=False)"
      ],
      "execution_count": null,
      "outputs": []
    },
    {
      "cell_type": "markdown",
      "metadata": {
        "id": "z_8p4fd2AoXC"
      },
      "source": [
        "A combination"
      ]
    },
    {
      "cell_type": "code",
      "metadata": {
        "id": "Ro-gjUJbAM2G"
      },
      "source": [
        "pd.crosstab(df.make, [df.body_style, df.drive_wheels], values=df.curb_weight, aggfunc='mean').fillna('-')"
      ],
      "execution_count": null,
      "outputs": []
    },
    {
      "cell_type": "markdown",
      "metadata": {
        "id": "FHHDtQzDBHuB"
      },
      "source": [
        "## Normalization"
      ]
    },
    {
      "cell_type": "markdown",
      "metadata": {
        "id": "kXM73zjUBPqk"
      },
      "source": [
        "All"
      ]
    },
    {
      "cell_type": "code",
      "metadata": {
        "id": "d99um4NyA6At"
      },
      "source": [
        "pd.crosstab(df.make, df.body_style, normalize=True)"
      ],
      "execution_count": null,
      "outputs": []
    },
    {
      "cell_type": "markdown",
      "metadata": {
        "id": "p44sSjkxBXf1"
      },
      "source": [
        "Rows"
      ]
    },
    {
      "cell_type": "code",
      "metadata": {
        "id": "cJgoGFSOBWFl"
      },
      "source": [
        "pd.crosstab(df.make, df.body_style, normalize='index')"
      ],
      "execution_count": null,
      "outputs": []
    },
    {
      "cell_type": "markdown",
      "metadata": {
        "id": "1XbFwL-5Bde8"
      },
      "source": [
        "Columns"
      ]
    },
    {
      "cell_type": "code",
      "metadata": {
        "id": "OoKsm0ETBcOF"
      },
      "source": [
        "pd.crosstab(df.make, df.body_style, normalize='columns')"
      ],
      "execution_count": null,
      "outputs": []
    }
  ]
}